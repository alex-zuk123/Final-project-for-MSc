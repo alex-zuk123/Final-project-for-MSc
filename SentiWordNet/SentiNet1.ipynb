{
 "cells": [
  {
   "cell_type": "code",
   "execution_count": 24,
   "id": "95f22670",
   "metadata": {},
   "outputs": [],
   "source": [
    "import pandas as pd #著名数据处理包\n",
    "import nltk \n",
    "from nltk import word_tokenize #分词函数\n",
    "from nltk.corpus import stopwords #停止词表，如a,the等不重要的词\n",
    "from nltk.corpus import sentiwordnet as swn #得到单词情感得分\n",
    "import string #本文用它导入标点符号，如!\"#$%& \n",
    "import pandas as pd\n",
    "from tqdm import tqdm\n",
    "from sklearn.metrics import classification_report\n",
    "import numpy as np"
   ]
  },
  {
   "cell_type": "code",
   "execution_count": 15,
   "id": "efcde3fa",
   "metadata": {},
   "outputs": [],
   "source": [
    "stop = stopwords.words(\"english\") + list(string.punctuation)"
   ]
  },
  {
   "cell_type": "code",
   "execution_count": 16,
   "id": "dcf581c6",
   "metadata": {},
   "outputs": [],
   "source": [
    "def text_score(text):\n",
    "    #create单词表\n",
    "    #nltk.pos_tag是打标签\n",
    "    ttt = nltk.pos_tag([i for i in word_tokenize(str(text).lower()) if i not in stop])\n",
    "    word_tag_fq = nltk.FreqDist(ttt)\n",
    "    wordlist = word_tag_fq.most_common()\n",
    "\n",
    "    #变为dataframe形式\n",
    "    key = []\n",
    "    part = []\n",
    "    frequency = []\n",
    "    for i in range(len(wordlist)):\n",
    "        key.append(wordlist[i][0][0])\n",
    "        part.append(wordlist[i][0][1])\n",
    "        frequency.append(wordlist[i][1])\n",
    "    textdf = pd.DataFrame({'key':key,\n",
    "                      'part':part,\n",
    "                      'frequency':frequency},\n",
    "                      columns=['key','part','frequency'])\n",
    "\n",
    "    #编码\n",
    "    n = ['NN','NNP','NNPS','NNS','UH']\n",
    "    v = ['VB','VBD','VBG','VBN','VBP','VBZ']\n",
    "    a = ['JJ','JJR','JJS']\n",
    "    r = ['RB','RBR','RBS','RP','WRB']\n",
    "\n",
    "    for i in range(len(textdf['key'])):\n",
    "        z = textdf.iloc[i,1]\n",
    "\n",
    "        if z in n:\n",
    "            textdf.iloc[i,1]='n'\n",
    "        elif z in v:\n",
    "            textdf.iloc[i,1]='v'\n",
    "        elif z in a:\n",
    "            textdf.iloc[i,1]='a'\n",
    "        elif z in r:\n",
    "            textdf.iloc[i,1]='r'\n",
    "        else:\n",
    "            textdf.iloc[i,1]=''\n",
    "            \n",
    "        #计算单个评论的单词分数\n",
    "    score = []\n",
    "    for i in range(len(textdf['key'])):\n",
    "        m = list(swn.senti_synsets(textdf.iloc[i,0],textdf.iloc[i,1]))\n",
    "        s = 0\n",
    "        ra = 0\n",
    "        if len(m) > 0:\n",
    "            for j in range(len(m)):\n",
    "                s += (m[j].pos_score()-m[j].neg_score())/(j+1)\n",
    "                ra += 1/(j+1)\n",
    "            score.append(s/ra)\n",
    "        else:\n",
    "            score.append(0)\n",
    "            \n",
    "    return sum(score)"
   ]
  },
  {
   "cell_type": "code",
   "execution_count": 17,
   "id": "8ea8a848",
   "metadata": {},
   "outputs": [
    {
     "data": {
      "text/plain": [
       "0.6716984589513434"
      ]
     },
     "execution_count": 17,
     "metadata": {},
     "output_type": "execute_result"
    }
   ],
   "source": [
    "text = 'good day.'\n",
    "text_score(text)"
   ]
  },
  {
   "cell_type": "code",
   "execution_count": 19,
   "id": "e17f3e59",
   "metadata": {},
   "outputs": [],
   "source": [
    "df = pd.read_csv('./review (1).csv')\n",
    "df.dropna(inplace=True)\n",
    "# 转化为标签字典保存\n",
    "labels = df['rating'].tolist()\n",
    "# 标签转化\n",
    "label_dict = {1: 0, 2: 0, 3: 1, 4: 2, 5: 2}\n",
    "# 标签转为化对应索引\n",
    "labels_ = [label_dict[i] for i in labels]"
   ]
  },
  {
   "cell_type": "code",
   "execution_count": 20,
   "id": "19fcf92a",
   "metadata": {},
   "outputs": [],
   "source": [
    "# 情感词典计算"
   ]
  },
  {
   "cell_type": "code",
   "execution_count": 29,
   "id": "52cc7d95",
   "metadata": {},
   "outputs": [
    {
     "name": "stderr",
     "output_type": "stream",
     "text": [
      "100%|██████████████████████████████████████████████████████████████████████| 1487747/1487747 [4:14:25<00:00, 97.46it/s]\n"
     ]
    }
   ],
   "source": [
    "labels_pre = []\n",
    "for text in tqdm(df['review_text'].tolist()):\n",
    "    text = str(text).strip()\n",
    "    sco = text_score(text)\n",
    "    if sco<0:\n",
    "        labels_pre.append(0)\n",
    "    elif sco == 0:\n",
    "        labels_pre.append(1)\n",
    "    else:\n",
    "        labels_pre.append(2)"
   ]
  },
  {
   "cell_type": "code",
   "execution_count": 31,
   "id": "599ee7ec",
   "metadata": {},
   "outputs": [
    {
     "name": "stdout",
     "output_type": "stream",
     "text": [
      "              precision    recall  f1-score   support\n",
      "\n",
      "          负面      0.284     0.472     0.355     96654\n",
      "          中性      0.054     0.002     0.005     88533\n",
      "          赞扬      0.907     0.921     0.914   1302560\n",
      "\n",
      "    accuracy                          0.837   1487747\n",
      "   macro avg      0.415     0.465     0.424   1487747\n",
      "weighted avg      0.816     0.837     0.824   1487747\n",
      "\n"
     ]
    }
   ],
   "source": [
    " # 标签名称\n",
    "target_names = ['负面','中性','赞扬']\n",
    "# 输出准确率 准确率 召回率 精准率 f1 等评价指标\n",
    "print(classification_report(labels_, labels_pre, target_names=target_names, digits=3))"
   ]
  },
  {
   "cell_type": "code",
   "execution_count": null,
   "id": "839d6904",
   "metadata": {},
   "outputs": [],
   "source": []
  }
 ],
 "metadata": {
  "kernelspec": {
   "display_name": "Python 3 (ipykernel)",
   "language": "python",
   "name": "python3"
  },
  "language_info": {
   "codemirror_mode": {
    "name": "ipython",
    "version": 3
   },
   "file_extension": ".py",
   "mimetype": "text/x-python",
   "name": "python",
   "nbconvert_exporter": "python",
   "pygments_lexer": "ipython3",
   "version": "3.7.8"
  }
 },
 "nbformat": 4,
 "nbformat_minor": 5
}
